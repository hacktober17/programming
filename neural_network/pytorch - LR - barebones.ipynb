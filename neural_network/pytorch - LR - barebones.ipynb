{
  "nbformat": 4,
  "nbformat_minor": 0,
  "metadata": {
    "colab": {
      "name": "Pytorch.ipynb",
      "version": "0.3.2",
      "views": {},
      "default_view": {},
      "provenance": []
    }
  },
  "cells": [
    {
      "metadata": {
        "id": "Qfq00AUjl8Qe",
        "colab_type": "code",
        "colab": {
          "autoexec": {
            "startup": false,
            "wait_interval": 0
          },
          "output_extras": [
            {
              "item_id": 2
            }
          ],
          "base_uri": "https://localhost:8080/",
          "height": 102
        },
        "outputId": "c43cdece-e4d0-46ef-a70e-80b7d65b0d53",
        "executionInfo": {
          "status": "ok",
          "timestamp": 1508966117353,
          "user_tz": 300,
          "elapsed": 872,
          "user": {
            "displayName": "Shubhanshu Mishra",
            "photoUrl": "//lh6.googleusercontent.com/-czaPBAwgj9U/AAAAAAAAAAI/AAAAAAAAK28/IG3vhWrWDBs/s50-c-k-no/photo.jpg",
            "userId": "108800197075733884625"
          }
        }
      },
      "source": [
        "import subprocess\n",
        "import sys\n",
        "print(sys.version_info)\n",
        "print(subprocess.check_output([\n",
        "    \"python\", \"-m\", \"pip\", \"install\",\n",
        "    \"http://download.pytorch.org/whl/cu75/\"\n",
        "    \"torch-0.2.0.post3-cp27-cp27mu-manylinux1_x86_64.whl\"],\n",
        "    stderr=subprocess.STDOUT\n",
        "))\n",
        "\n",
        "import torch\n",
        "from torch.autograd import Variable"
      ],
      "cell_type": "code",
      "execution_count": 1,
      "outputs": [
        {
          "output_type": "stream",
          "text": [
            "sys.version_info(major=2, minor=7, micro=12, releaselevel='final', serial=0)\n",
            "Requirement already satisfied: torch==0.2.0.post3 from http://download.pytorch.org/whl/cu75/torch-0.2.0.post3-cp27-cp27mu-manylinux1_x86_64.whl in /usr/local/lib/python2.7/dist-packages\n",
            "Requirement already satisfied: pyyaml in /usr/local/lib/python2.7/dist-packages (from torch==0.2.0.post3)\n",
            "Requirement already satisfied: numpy in /usr/local/lib/python2.7/dist-packages (from torch==0.2.0.post3)\n",
            "\n"
          ],
          "name": "stdout"
        }
      ]
    },
    {
      "metadata": {
        "id": "vzz5g82xmD1O",
        "colab_type": "code",
        "colab": {
          "autoexec": {
            "startup": false,
            "wait_interval": 0
          }
        }
      },
      "source": [
        "N = 10\n",
        "K = 3\n",
        "X = torch.rand(N,K)\n",
        "w_true = torch.rand(K,1)\n",
        "b_true = torch.rand(1,1)\n",
        "y = X.mm(w_true) + b_true + torch.randn(N, 1)\n",
        "\n",
        "w, b = torch.randn(K, 1), torch.rand(1,1)"
      ],
      "cell_type": "code",
      "execution_count": 0,
      "outputs": []
    },
    {
      "metadata": {
        "id": "sqPKXQlf56Tv",
        "colab_type": "text"
      },
      "source": [
        "# Train the model"
      ],
      "cell_type": "markdown"
    },
    {
      "metadata": {
        "id": "rCSjM6tUmQH6",
        "colab_type": "code",
        "colab": {
          "autoexec": {
            "startup": false,
            "wait_interval": 0
          },
          "output_extras": [
            {
              "item_id": 1
            }
          ],
          "base_uri": "https://localhost:8080/",
          "height": 510
        },
        "outputId": "3f134695-6a41-4c19-d05a-df3047599039",
        "executionInfo": {
          "status": "ok",
          "timestamp": 1508966118130,
          "user_tz": 300,
          "elapsed": 260,
          "user": {
            "displayName": "Shubhanshu Mishra",
            "photoUrl": "//lh6.googleusercontent.com/-czaPBAwgj9U/AAAAAAAAAAI/AAAAAAAAK28/IG3vhWrWDBs/s50-c-k-no/photo.jpg",
            "userId": "108800197075733884625"
          }
        }
      },
      "source": [
        "X, w_true, b_true, y"
      ],
      "cell_type": "code",
      "execution_count": 3,
      "outputs": [
        {
          "output_type": "execute_result",
          "data": {
            "text/plain": [
              "(\n",
              "  0.0962  0.1213  0.5834\n",
              "  0.5578  0.5370  0.7171\n",
              "  0.6509  0.4547  0.7004\n",
              "  0.1381  0.8023  0.4754\n",
              "  0.3784  0.0767  0.0488\n",
              "  0.5797  0.7706  0.0618\n",
              "  0.7126  0.3810  0.5116\n",
              "  0.9070  0.3917  0.8562\n",
              "  0.4220  0.2039  0.3070\n",
              "  0.5736  0.1616  0.4133\n",
              " [torch.FloatTensor of size 10x3], \n",
              "  0.5934\n",
              "  0.6389\n",
              "  0.0753\n",
              " [torch.FloatTensor of size 3x1], \n",
              "  0.4611\n",
              " [torch.FloatTensor of size 1x1], \n",
              "  0.3184\n",
              "  1.9451\n",
              "  0.9541\n",
              "  2.1083\n",
              "  1.2218\n",
              "  0.3251\n",
              "  2.6185\n",
              "  2.7388\n",
              "  1.1996\n",
              " -0.6529\n",
              " [torch.FloatTensor of size 10x1])"
            ]
          },
          "metadata": {
            "tags": []
          },
          "execution_count": 3
        }
      ]
    },
    {
      "metadata": {
        "id": "hNNoL9zJuWS5",
        "colab_type": "code",
        "colab": {
          "autoexec": {
            "startup": false,
            "wait_interval": 0
          },
          "output_extras": [
            {
              "item_id": 1
            }
          ],
          "base_uri": "https://localhost:8080/",
          "height": 68
        },
        "outputId": "a8d52429-b3c6-4bc4-8e49-2db1ff106335",
        "executionInfo": {
          "status": "ok",
          "timestamp": 1508966118743,
          "user_tz": 300,
          "elapsed": 313,
          "user": {
            "displayName": "Shubhanshu Mishra",
            "photoUrl": "//lh6.googleusercontent.com/-czaPBAwgj9U/AAAAAAAAAAI/AAAAAAAAK28/IG3vhWrWDBs/s50-c-k-no/photo.jpg",
            "userId": "108800197075733884625"
          }
        }
      },
      "source": [
        "torch.mean(y, 0)"
      ],
      "cell_type": "code",
      "execution_count": 4,
      "outputs": [
        {
          "output_type": "execute_result",
          "data": {
            "text/plain": [
              "\n",
              " 1.2777\n",
              "[torch.FloatTensor of size 1]"
            ]
          },
          "metadata": {
            "tags": []
          },
          "execution_count": 4
        }
      ]
    },
    {
      "metadata": {
        "id": "lhZhybSA2-Pp",
        "colab_type": "code",
        "colab": {
          "autoexec": {
            "startup": false,
            "wait_interval": 0
          },
          "output_extras": [
            {
              "item_id": 1
            }
          ],
          "base_uri": "https://localhost:8080/",
          "height": 68
        },
        "outputId": "a5660017-8586-43da-a763-a00254c38219",
        "executionInfo": {
          "status": "ok",
          "timestamp": 1508966119261,
          "user_tz": 300,
          "elapsed": 323,
          "user": {
            "displayName": "Shubhanshu Mishra",
            "photoUrl": "//lh6.googleusercontent.com/-czaPBAwgj9U/AAAAAAAAAAI/AAAAAAAAK28/IG3vhWrWDBs/s50-c-k-no/photo.jpg",
            "userId": "108800197075733884625"
          }
        }
      },
      "source": [
        "torch.t(y)"
      ],
      "cell_type": "code",
      "execution_count": 5,
      "outputs": [
        {
          "output_type": "execute_result",
          "data": {
            "text/plain": [
              "\n",
              " 0.3184  1.9451  0.9541  2.1083  1.2218  0.3251  2.6185  2.7388  1.1996 -0.6529\n",
              "[torch.FloatTensor of size 1x10]"
            ]
          },
          "metadata": {
            "tags": []
          },
          "execution_count": 5
        }
      ]
    },
    {
      "metadata": {
        "id": "gsZgY0nRq-ZU",
        "colab_type": "code",
        "colab": {
          "autoexec": {
            "startup": false,
            "wait_interval": 0
          }
        }
      },
      "source": [
        "def forward(X, w, b):\n",
        "  y_pred = X.mm(w) + b\n",
        "  w_grad = X\n",
        "  b_grad = torch.ones(X.shape[0], 1)\n",
        "  return y_pred, w_grad, b_grad\n",
        "  \n",
        "def loss(X, y, w, b):\n",
        "  y_pred, w_grad, b_grad = forward(X, w, b)\n",
        "  loss_val = 0.5 * torch.mean((y_pred - y)**2, 0)\n",
        "  loss_grad = torch.t((0.5/y_pred.shape[0]) * (y_pred - y))\n",
        "  w_grad = loss_grad.mm(w_grad)\n",
        "  b_grad = loss_grad.mm(b_grad)\n",
        "  return loss_val, w_grad, b_grad\n",
        "\n",
        "def train(X, y, w, b, lr=0.01):\n",
        "  loss_val, w_grad, b_grad = loss(X, y, w, b)\n",
        "  w = w - lr*w_grad.t()\n",
        "  b = b - lr*b_grad.t()\n",
        "  return loss_val, w, b"
      ],
      "cell_type": "code",
      "execution_count": 0,
      "outputs": []
    },
    {
      "metadata": {
        "id": "KMPACDD-31el",
        "colab_type": "code",
        "colab": {
          "autoexec": {
            "startup": false,
            "wait_interval": 0
          },
          "output_extras": [
            {
              "item_id": 1
            }
          ],
          "base_uri": "https://localhost:8080/",
          "height": 221
        },
        "outputId": "85719449-3b60-4fc9-fa6c-308e0a0f816d",
        "executionInfo": {
          "status": "ok",
          "timestamp": 1508966120643,
          "user_tz": 300,
          "elapsed": 272,
          "user": {
            "displayName": "Shubhanshu Mishra",
            "photoUrl": "//lh6.googleusercontent.com/-czaPBAwgj9U/AAAAAAAAAAI/AAAAAAAAK28/IG3vhWrWDBs/s50-c-k-no/photo.jpg",
            "userId": "108800197075733884625"
          }
        }
      },
      "source": [
        "loss_val, w, b = train(X, y, w, b)\n",
        "print loss_val, w, b"
      ],
      "cell_type": "code",
      "execution_count": 7,
      "outputs": [
        {
          "output_type": "stream",
          "text": [
            "\n",
            " 0.7835\n",
            "[torch.FloatTensor of size 1]\n",
            " \n",
            "-1.0829\n",
            " 1.8414\n",
            "-0.4475\n",
            "[torch.FloatTensor of size 3x1]\n",
            " \n",
            " 0.8291\n",
            "[torch.FloatTensor of size 1x1]\n",
            "\n"
          ],
          "name": "stdout"
        }
      ]
    },
    {
      "metadata": {
        "id": "Kl_MJYto4D8h",
        "colab_type": "code",
        "colab": {
          "autoexec": {
            "startup": false,
            "wait_interval": 0
          },
          "output_extras": [
            {
              "item_id": 1
            }
          ],
          "base_uri": "https://localhost:8080/",
          "height": 187
        },
        "outputId": "d65906a8-16d8-484b-85ee-f49a659b738c",
        "executionInfo": {
          "status": "ok",
          "timestamp": 1508966121176,
          "user_tz": 300,
          "elapsed": 273,
          "user": {
            "displayName": "Shubhanshu Mishra",
            "photoUrl": "//lh6.googleusercontent.com/-czaPBAwgj9U/AAAAAAAAAAI/AAAAAAAAK28/IG3vhWrWDBs/s50-c-k-no/photo.jpg",
            "userId": "108800197075733884625"
          }
        }
      },
      "source": [
        "for i in range(10):\n",
        "  print \"Iter: {}, loss: {}, w: {}, b: {}\".format(\n",
        "      i, loss_val.numpy()[0], w.t().numpy(), b.numpy()\n",
        "  )\n",
        "  loss_val, w, b = train(X, y, w, b)"
      ],
      "cell_type": "code",
      "execution_count": 8,
      "outputs": [
        {
          "output_type": "stream",
          "text": [
            "Iter: 0, loss: 0.783509612083, w: [[-1.08293951  1.84141815 -0.44750687]], b: [[ 0.82914275]]\n",
            "Iter: 1, loss: 0.780731379986, w: [[-1.08104372  1.84223092 -0.44559681]], b: [[ 0.83155614]]\n",
            "Iter: 2, loss: 0.777996659279, w: [[-1.07916009  1.84303439 -0.44369826]], b: [[ 0.83394665]]\n",
            "Iter: 3, loss: 0.775304794312, w: [[-1.07728863  1.8438288  -0.44181111]], b: [[ 0.8363145]]\n",
            "Iter: 4, loss: 0.772654891014, w: [[-1.0754292   1.84461403 -0.43993533]], b: [[ 0.83865982]]\n",
            "Iter: 5, loss: 0.770046532154, w: [[-1.0735817   1.84539032 -0.43807077]], b: [[ 0.84098285]]\n",
            "Iter: 6, loss: 0.767478764057, w: [[-1.07174599  1.84615767 -0.43621737]], b: [[ 0.84328377]]\n",
            "Iter: 7, loss: 0.764951169491, w: [[-1.06992197  1.84691608 -0.43437502]], b: [[ 0.84556276]]\n",
            "Iter: 8, loss: 0.762462794781, w: [[-1.06810963  1.84766567 -0.43254361]], b: [[ 0.84781998]]\n",
            "Iter: 9, loss: 0.760013282299, w: [[-1.06630874  1.84840655 -0.43072307]], b: [[ 0.85005563]]\n"
          ],
          "name": "stdout"
        }
      ]
    },
    {
      "metadata": {
        "id": "-sSvn-WI4iXj",
        "colab_type": "code",
        "colab": {
          "autoexec": {
            "startup": false,
            "wait_interval": 0
          }
        }
      },
      "source": [
        ""
      ],
      "cell_type": "code",
      "execution_count": 0,
      "outputs": []
    }
  ]
}
